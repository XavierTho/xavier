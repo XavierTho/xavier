{
 "cells": [
  {
   "cell_type": "raw",
   "metadata": {},
   "source": [
    "---\n",
    "toc: false\n",
    "type: hacks\n",
    "comments: true\n",
    "layout: post\n",
    "title: Individual Review\n",
    "courses: { week: {week: 12} }\n",
    "permalink: /blog/individual-review-game\n",
    "---"
   ]
  },
  {
   "cell_type": "markdown",
   "metadata": {},
   "source": [
    "## Accomplishments\n",
    "- [Collisions & Hitboxes](#collisions--hitboxes)\n",
    "- [Objected Oriented Code](#objected-oriented-coding)\n",
    "- [Player Controls](#player-controls)\n",
    "- [Game Features](#game-features-big--small)\n",
    "- [Unadded Technicals](#unadded-technicals)\n",
    "- [Numbers & Statistical Data (Commits, Additions)](#numbers--statistical-data)"
   ]
  },
  {
   "cell_type": "markdown",
   "metadata": {},
   "source": [
    "### Collisions & Hitboxes\n",
    "Hitboxes and collisions, as we all know, are an essential asset for having a game. From pong to the most complex of modern games, without collision and hitbox detection, there can be no game. So knowing such, I took it upon myself to design a system in which could be used in order to detect collision, as we were planning to have interaction between a player & an enemy. The exact details on the subject won't be covered here as it was already talked about in more detail in the blogs linked at the bottom. However, a summary will be provided here and what was learned along the way.\n",
    "\n",
    "\n",
    "#### Hitboxes\n",
    "\n",
    "First, we'll talk about hitboxes. Hitboxes are given by default to sprites, however, it's a common theme that these sprites don't have an accurate hitbox relative to their size. Take a look below. It's a screenshot of our default player hitbox which is obviously much bigger than the player, hence causing a problem. To solve this issue, we have to manipulate/create properties within the player & enemy to make a custom hitbox.\n",
    "\n",
    "<img src=\"{{site.baseurl}}/images/Blog/player-hitbox.png\" alt=\"picture of the player's hitbox being bigger than player\"/>\n",
    "\n",
    "Collision & Hitbox Blogs:\n",
    "\n",
    "\n"
   ]
  },
  {
   "cell_type": "code",
   "execution_count": null,
   "metadata": {
    "vscode": {
     "languageId": "javascript"
    }
   },
   "outputs": [],
   "source": [
    "\n",
    "export class CharacterPlayer extends Character {\n",
    "  constructor(playerCanvas, image, speedRatio) {\n",
    "      // Define the hitbox as a separate object\n",
    "      const hitbox = {\n",
    "          width: 50,\n",
    "          height: 50,\n",
    "      };\n",
    "\n",
    "      //Sets the hitbox as the propety of the player\n",
    "      this.hitbox = hitbox;\n",
    "  }\n",
    "\n",
    "  //Updates the Position of the hitbox to match the player\n",
    "  updateHitbox() {\n",
    "      this.hitbox.x = this.x\n",
    "      this.hitbox.y = this.y\n",
    "  }\n",
    "}"
   ]
  },
  {
   "cell_type": "markdown",
   "metadata": {},
   "source": [
    "You'll see that creating a hitbox for the player was much easier than anticipated. First, one must define the hitbox and give it dimensions, the dimensions will be used for the player hitbox. Once this is done, define the hitbox as a property of the player. `this.hitbox = hitbox` just means **this**, aka the player will have a property called hitbox which equals to the hitbox const which has a width and height of 50. Now, we just have to create another function to make sure the hitbox of the player is continually overlayed onto the player's current position.\n",
    "\n",
    "This exact same code can be replicated for the enemy. Now that we have hitboxes that more accurately represent the player's size, it's time to use collisions to create interaction between the two players."
   ]
  },
  {
   "cell_type": "markdown",
   "metadata": {},
   "source": [
    "#### Collisions\n",
    "To add collisions, I used the most common and simplest method used for 2d games. It's called AABB collision detection. It's especially useful for rectangular hitboxes such as what we have.  The code checks the positioning of the sides of each object and uses that information to presume whether or not the two objects are touching each other. If they are touching (the conditions are met to deem such so), then code will be run dictating what should happen in the event of a collision. Our code, when the player and enemy touch, causes the game to end."
   ]
  },
  {
   "cell_type": "code",
   "execution_count": null,
   "metadata": {
    "vscode": {
     "languageId": "javascript"
    }
   },
   "outputs": [],
   "source": [
    " //Checks for collision between the player & enemy\n",
    " function checkCollisions(playerObj, enemyObj) {\n",
    "  if (\n",
    "      playerObj.hitbox.x < enemyObj.hitbox.x + enemyObj.hitbox.width &&\n",
    "      playerObj.hitbox.x + playerObj.hitbox.width > enemyObj.hitbox.x &&\n",
    "      playerObj.hitbox.y < enemyObj.hitbox.y + enemyObj.hitbox.height &&\n",
    "      playerObj.hitbox.y + playerObj.hitbox.height > enemyObj.hitbox.y\n",
    "  ) {\n",
    "      //If there is collision, run the endGame function\n",
    "      endGame();\n",
    "  }\n",
    "}\n"
   ]
  },
  {
   "cell_type": "markdown",
   "metadata": {},
   "source": [
    "You'll see in the code here that the code uses the hitbox property to measure collision, and that once all the conditions for collisons were met, the game would end."
   ]
  },
  {
   "cell_type": "markdown",
   "metadata": {},
   "source": [
    "### Objected Oriented Coding\n",
    "OOP was certainly the most challenging thing to implement into my game, even while using Mr. Mortensen's code as a template for constructing my own code. Modifying or adding new things into the game became a great challenge as the code was no longer as easily understood as when it was compiled into a single file. This was especially the case when multiple different files inherited functionality from one JavaScript file, such as GameObject.js. While OOP is still a new topic for myself and my team, we did learn plenty in the making of our game.\n",
    "\n",
    "Below is the list of different files we used to organize our JavaScript code:"
   ]
  },
  {
   "cell_type": "markdown",
   "metadata": {},
   "source": [
    "1. Background.js\n",
    "2. Character.js\n",
    "3. Enemy.js\n",
    "4. GameEnv.js\n",
    "5. GameObject.js\n",
    "6. GameOver.js\n",
    "7. Player.js\n",
    "8. Score.js"
   ]
  },
  {
   "cell_type": "markdown",
   "metadata": {},
   "source": [
    "One of the main things I learned were classes & constructors, which specify the properties that each object needs in such an object"
   ]
  },
  {
   "cell_type": "code",
   "execution_count": null,
   "metadata": {
    "vscode": {
     "languageId": "javascript"
    }
   },
   "outputs": [],
   "source": [
    "class GameObject {\n",
    "  constructor(canvas, image, speedRatio) {\n",
    "      this.x = 0;\n",
    "      this.y = 0;\n",
    "      this.frame = 0;\n",
    "      this.canvas = canvas;\n",
    "      this.ctx = canvas.getContext('2d');\n",
    "      this.image = image;\n",
    "      this.width = image.width;  // Image() width (meta data)\n",
    "      this.height = image.height; // Image() height\n",
    "      this.aspect_ratio = this.width / this.height;\n",
    "      this.speedRatio = speedRatio;\n",
    "      this.speed = GameEnv.gameSpeed * this.speedRatio;\n",
    "  }\n",
    "}"
   ]
  },
  {
   "cell_type": "markdown",
   "metadata": {},
   "source": [
    "This is the code for the GameObject class. You'll see within the class, there is a constructor with many different properties. Each one of these properties is absolutely necessary for an object in the game. Such properties includes making sure the canvas of each object is 2d, which allows for the animation of objects for JavaScript on canvases & the frames of the object will start at 0 so the animations are started correctly. You'll also see properties that take parameters, as those properties are unique to the object, such as the image, canvas, speedRatio, etc.\n",
    "\n",
    "These classes can then be connected to other classes."
   ]
  },
  {
   "cell_type": "code",
   "execution_count": null,
   "metadata": {
    "vscode": {
     "languageId": "javascript"
    }
   },
   "outputs": [],
   "source": [
    "import GameObject from './GameObject.js';\n",
    "\n",
    "export class Background extends GameObject {\n",
    "    constructor(canvas, image, speedRatio) {\n",
    "        super(canvas, image, speedRatio);\n",
    "    }\n",
    "    update() {\n",
    "        this.x = (this.x - this.speed) % this.width;\n",
    "    }\n",
    "    draw() {\n",
    "        this.ctx.drawImage(this.image, this.x, this.y);\n",
    "        this.ctx.drawImage(this.image, this.x + this.width, this.y);\n",
    "    }\n",
    "}"
   ]
  },
  {
   "cell_type": "markdown",
   "metadata": {},
   "source": [
    "You can see how the Background class extends to the GameObject class so it not only uses its own unique attributes, but also uses all of the attributes given by the GameObject class. It's also a good point to note how these separate files have access to each other's code. This can be done by importing the class, function, variable, whatever of your choosing from the given file. You'll see how the GameObject class is imported from the GameObject.js file and that's how the Background class can extend to the GameObject class.\n",
    "\n",
    "The main index file shows this clearly"
   ]
  },
  {
   "cell_type": "code",
   "execution_count": null,
   "metadata": {
    "vscode": {
     "languageId": "javascript"
    }
   },
   "outputs": [],
   "source": [
    "import GameEnv from '{{site.baseurl}}/assets/js/GameEnv.js';\n",
    "import { initBackground } from '{{site.baseurl}}/assets/js/Background.js';\n",
    "import { initPlayer} from '{{site.baseurl}}/assets/js/Player.js';\n",
    "import { initEnemy} from '{{site.baseurl}}/assets/js/Enemy.js';\n",
    "import { endGame, gamePaused } from '{{site.baseurl}}/assets/js/GameOver.js';\n",
    "import {getScore, score} from '{{site.baseurl}}/assets/js/Score.js';"
   ]
  },
  {
   "cell_type": "markdown",
   "metadata": {},
   "source": [
    "It can be said without a doubt that classes, constructor, imports, and exports that I've been showing are the heart of OOP. They allow for separate code to connect and interact with each other, while being much more organized than if all the code were combined together. While I still struggle implementing OOP, it's undoubtedly something I'll continue to use going forward."
   ]
  },
  {
   "cell_type": "markdown",
   "metadata": {},
   "source": [
    "### Player Controls\n",
    "\n",
    "Another technical achievement I contributed to the game was the controls for the players, specifically the jumping of the player, something that was much more of a challenge that once imagined. Moving left & right didn't serve to be of any issue. The code was as simple as it gets."
   ]
  },
  {
   "cell_type": "code",
   "execution_count": null,
   "metadata": {
    "vscode": {
     "languageId": "javascript"
    }
   },
   "outputs": [],
   "source": [
    "//Logic for moving the Player to the Left\n",
    "if (this.frameY === PlayerAnimation.a.row && !this.isIdle) {\n",
    "  this.x -= this.speed;\n",
    "}\n",
    "\n",
    "//Logic for moving the Player to the Right\n",
    "else if (this.frameY === PlayerAnimation.d.row && !this.isIdle){\n",
    "  this.x += this.speed;\n",
    "}"
   ]
  },
  {
   "cell_type": "code",
   "execution_count": null,
   "metadata": {
    "vscode": {
     "languageId": "javascript"
    }
   },
   "outputs": [],
   "source": [
    "switch (keyCode) {\n",
    "  case 65: // 'A' key\n",
    "      player.setFrameY(PlayerAnimation['a'].row);\n",
    "      player.setMaxFrame(PlayerAnimation['a'].frames);\n",
    "      player.isIdle = false;\n",
    "      player.isFacingRight = false;\n",
    "      break;\n",
    "  case 68: // 'D' key\n",
    "      player.setFrameY(PlayerAnimation['d'].row);\n",
    "      player.setMaxFrame(PlayerAnimation['d'].frames);\n",
    "      player.isIdle = false;\n",
    "      player.isFacingRight = true;\n",
    "      break;\n",
    "}"
   ]
  },
  {
   "cell_type": "markdown",
   "metadata": {},
   "source": [
    "The code here was made so when the player presses the A or D key, the player will move accordingly. All that has to be done is subtract or add to the player's x value to move it around. This part was quite straight forward, but the jumping part served to be the issue at hand."
   ]
  },
  {
   "cell_type": "markdown",
   "metadata": {},
   "source": [
    "It's not as simple as changing the y value. The player must go into the air, slow down the higher it gets, and then accelerate back to the ground. To do this, we first have to define the different variables in which the player must have for jumping. The player would need velocity, gravity, and detection to whether or not the player was jumping."
   ]
  },
  {
   "cell_type": "code",
   "execution_count": null,
   "metadata": {
    "vscode": {
     "languageId": "javascript"
    }
   },
   "outputs": [],
   "source": [
    "//Jumping Properties\n",
    "this.velocityY = 0;\n",
    "this.gravity = 0.5;\n",
    "this.isJumping = false;"
   ]
  },
  {
   "cell_type": "markdown",
   "metadata": {},
   "source": [
    "Now that we have all the variables we need, we can use apply them to a function which controls the actual functionality to make the player jump."
   ]
  },
  {
   "cell_type": "code",
   "execution_count": null,
   "metadata": {
    "vscode": {
     "languageId": "javascript"
    }
   },
   "outputs": [],
   "source": [
    "jump() {\n",
    "  if (!this.isJumping) {\n",
    "      this.isJumping = true;\n",
    "      this.velocityY = -15;\n",
    "  }\n",
    "}"
   ]
  },
  {
   "cell_type": "code",
   "execution_count": null,
   "metadata": {
    "vscode": {
     "languageId": "javascript"
    }
   },
   "outputs": [],
   "source": [
    "//Logic for moving the Player Upwards\n",
    "if (this.isJumping) {\n",
    "  this.y += this.velocityY;\n",
    "  this.velocityY += this.gravity;\n",
    "\n",
    "  if (this.y >= 523.6) {\n",
    "      this.isJumping = false;\n",
    "      this.y = 523.6;\n",
    "  }\n",
    "}"
   ]
  },
  {
   "cell_type": "markdown",
   "metadata": {},
   "source": [
    "The first bit of code is a jump function, which we will be used later. It basically states that if the player is not jumping & the function is ran, then tell the computer that the player is now jumping and set the velocityY to be -15.\n",
    "\n",
    "The second bit of code then uses these variables to change the player's position. The player's y decreasing, and as that's happening velocityY slowly increases back to 0 as the gravity value is being added on. Once the player has a y that is greater than or equal to 523.6, then tell the computer that the player should no longer be jumping and to sets its y back to the floor."
   ]
  },
  {
   "cell_type": "code",
   "execution_count": null,
   "metadata": {
    "vscode": {
     "languageId": "javascript"
    }
   },
   "outputs": [],
   "source": [
    "case 87: // 'W' key\n",
    "  player.jump();\n",
    "  player.setFrameY(PlayerAnimation['w'].row);\n",
    "  player.setMaxFrame(PlayerAnimation['w'].frames);\n",
    "  player.isIdle = false;           "
   ]
  },
  {
   "cell_type": "markdown",
   "metadata": {},
   "source": [
    "This is where the jump function is called, making it so whenever the W key is pressed, the code above is initiated and the player will perform a jump. Much more logic than moving left or right, but still quite intuitive once completed."
   ]
  },
  {
   "cell_type": "markdown",
   "metadata": {},
   "source": [
    "### Game Features (Big & Small)\n",
    "What's often overlooked by those whom play games, are all the small details in the game, that aren't often noticeable, but behind the scenes took much effort to implement, and are of great accomplishment to the developer. This is what this section covers. We'll start with the bigger features first.\n",
    "\n",
    "\n",
    "#### Score\n",
    "Having a score in the way that we did was initially planned, but due to a lack of time to finish the game we were going to have, we had to make a few compromises. In such, I made a feature that gave users points each time they escaped the enemy."
   ]
  },
  {
   "cell_type": "code",
   "execution_count": null,
   "metadata": {
    "vscode": {
     "languageId": "javascript"
    }
   },
   "outputs": [],
   "source": [
    "let score = 0;\n",
    "\n",
    "//Adds to Score & Updates Display\n",
    "function incrementScore() {\n",
    "    score += 5;\n",
    "    updateScoreDisplay(); // Call the function to update the score display\n",
    "}\n",
    "\n",
    "//Returns the Score\n",
    "function getScore() {\n",
    "    return score;\n",
    "}\n",
    "\n",
    "//Updates Score Display\n",
    "function updateScoreDisplay() {\n",
    "    const scoreDisplay = document.getElementById('scoreDisplay'); //Gets the scoreDisplay with the ID\n",
    "    if (scoreDisplay) {\n",
    "        scoreDisplay.textContent = `Score: ${getScore()}`; //Updates the score\n",
    "    }\n",
    "}\n",
    "\n",
    "//Exports Functions\n",
    "export { incrementScore, getScore, score };"
   ]
  },
  {
   "cell_type": "markdown",
   "metadata": {},
   "source": [
    "This isn't the entirety of the code in which I used for my score, but it covers the most important elements. You'll see how there is a function to add to the score, to retrieve the score, and to display the score. You'll also see at the end that two functions and one variable are exported out of the file to be used elsewhere.\n",
    "\n",
    "incrementScore & score are used in Enemy.js to add to the score or to add special events when certain conditions are reached."
   ]
  },
  {
   "cell_type": "code",
   "execution_count": null,
   "metadata": {
    "vscode": {
     "languageId": "javascript"
    }
   },
   "outputs": [],
   "source": [
    "else if (this.domainOffset > this.domain * 2) {\n",
    "  this.domainOffset = 0; // reset the counter back to 0\n",
    "  incrementScore(); //add 5 to the score\n",
    "//If Enemy reaches right side, add 5 to the score\n",
    "} else if (this.domainOffset === this.domain) {\n",
    "  incrementScore();\n",
    "}\n",
    "if(score===10 && this.enemySpeed===4) {\n",
    "  this.enemySpeed += 4;\n",
    "};"
   ]
  },
  {
   "cell_type": "markdown",
   "metadata": {},
   "source": [
    "Here, 5 is added to the score (aka incrementScore()) every time the Enemy reaches one end of the canvas. It also states when the score is 10, the speed of the Enemy should permanently be increased to make the game more challenging."
   ]
  },
  {
   "cell_type": "markdown",
   "metadata": {},
   "source": [
    "In the main file there is a line of code to add sound effects when the score is 20. This is where getScore() is used."
   ]
  },
  {
   "cell_type": "code",
   "execution_count": null,
   "metadata": {
    "vscode": {
     "languageId": "javascript"
    }
   },
   "outputs": [],
   "source": [
    "// Check if the score reaches 20\n",
    "if (getScore() === 20) {\n",
    "  if (!sound)\n",
    "      playWinnerSound()\n",
    "      sound = 1;\n",
    "}"
   ]
  },
  {
   "cell_type": "markdown",
   "metadata": {},
   "source": [
    "So, adding a score composed of displaying the score, adding to that score based on certain conditions, exporting those functions to be accessible to other files, and utilizing the score to add special events. Definitely, with more time, this feature could have been much more heavily involved in the game's design."
   ]
  },
  {
   "cell_type": "markdown",
   "metadata": {},
   "source": [
    "#### Game Over\n",
    "Game Over was added to give collisions between the player and enemy value. For something to actually occur. Two things are to happen when the game ends. The game should be paused (nothing should be moving anymore), and it should be indicated that the game has ended to the user."
   ]
  },
  {
   "cell_type": "code",
   "execution_count": null,
   "metadata": {
    "vscode": {
     "languageId": "javascript"
    }
   },
   "outputs": [],
   "source": [
    "let gamePaused = false;\n",
    "\n",
    "// Function to end the game (customize this according to your game logic)\n",
    "function endGame() {\n",
    "    gamePaused = true; // Pause the game\n",
    "\n",
    "    // Display the \"Game Over\" text on top of the black canvas\n",
    "    const gameOverMessage = document.createElement(\"div\");\n",
    "    gameOverMessage.innerText = \"Game Over!\";\n",
    "    gameOverMessage.style.fontSize = \"48px\";\n",
    "    gameOverMessage.style.color = \"red\";\n",
    "    gameOverMessage.style.position = \"absolute\";\n",
    "    gameOverMessage.style.top = \"50%\";\n",
    "    gameOverMessage.style.left = \"50%\";\n",
    "    gameOverMessage.style.transform = \"translate(-50%, -50%)\";\n",
    "    document.body.appendChild(gameOverMessage);\n",
    "}\n",
    "\n",
    "export { endGame, gamePaused };"
   ]
  },
  {
   "cell_type": "markdown",
   "metadata": {},
   "source": [
    "This code meets both needs. It has big red text, telling that the user that the game has ended, and pauses the game. It does this by setting gamePaused to true, which stops the game from updating."
   ]
  },
  {
   "cell_type": "code",
   "execution_count": null,
   "metadata": {
    "vscode": {
     "languageId": "javascript"
    }
   },
   "outputs": [],
   "source": [
    "  // Game loop\n",
    "  function gameLoop() {\n",
    "    if (!gamePaused) {\n",
    "\n",
    "        //Draws and updates background animation\n",
    "        backgroundObj.update();\n",
    "        backgroundObj.draw();\n",
    "        \n",
    "        //Draws and updates player animation\n",
    "        playerObj.update();\n",
    "        playerObj.draw();\n",
    "        \n",
    "        //Draws and updates enemy animation\n",
    "        enemyObj.update();\n",
    "        enemyObj.draw();\n",
    "\n",
    "        //Updates Hitboxes for both the player & enemy\n",
    "        playerObj.updateHitbox();\n",
    "        enemyObj.updateHitbox();\n",
    "\n",
    "        //Checks for collisions between the player and enemy\n",
    "        checkCollisions(playerObj, enemyObj);\n",
    "\n",
    "        requestAnimationFrame(gameLoop);  // cycle the game, aka recursion\n",
    "    }\n",
    "}"
   ]
  },
  {
   "cell_type": "markdown",
   "metadata": {},
   "source": [
    "You can see how everything in the game is updated here. You'll as note that the code only works when `!gamePaused`, which means the code will only run when gamePaused = false. However, when collision between the enemy and player are detected, gamePaused will then equal true, causing the game to stop. The only other thing at this point that needs implementation, is calling upon the endGame() function where collision is detected. Below shows how it is do so."
   ]
  },
  {
   "cell_type": "code",
   "execution_count": null,
   "metadata": {
    "vscode": {
     "languageId": "javascript"
    }
   },
   "outputs": [],
   "source": [
    "function checkCollisions(playerObj, enemyObj) {\n",
    "  if (\n",
    "      playerObj.hitbox.x < enemyObj.hitbox.x + enemyObj.hitbox.width &&\n",
    "      playerObj.hitbox.x + playerObj.hitbox.width > enemyObj.hitbox.x &&\n",
    "      playerObj.hitbox.y < enemyObj.hitbox.y + enemyObj.hitbox.height &&\n",
    "      playerObj.hitbox.y + playerObj.hitbox.height > enemyObj.hitbox.y\n",
    "  ) {\n",
    "      //Run endGame function\n",
    "      endGame();\n",
    "  }\n",
    "}"
   ]
  },
  {
   "cell_type": "markdown",
   "metadata": {},
   "source": [
    "#### Other Features\n",
    "Games are always full of the additions of small features, and this game would be no exception. These additions often come up to solve minor or major problems, one such problem affected the animation of the player. The animation of the player was simply too fast and would be of much notice to others, so I made a solution. There would be a delay in the animation, so only after the player updated twice would the next of the animation happen."
   ]
  },
  {
   "cell_type": "code",
   "execution_count": null,
   "metadata": {
    "vscode": {
     "languageId": "javascript"
    }
   },
   "outputs": [],
   "source": [
    "//Delays Frame Animation\n",
    "frameCounter++\n",
    "if (frameCounter >= frameUpdateDelay) {\n",
    "    frameCounter = 0;\n",
    "    // Update animation frameX of the object\n",
    "    if (this.frameX < this.maxFrame) {\n",
    "        this.frameX++;\n",
    "    } else {\n",
    "        this.frameX = 0;\n",
    "    }\n",
    "}"
   ]
  },
  {
   "cell_type": "markdown",
   "metadata": {},
   "source": [
    "This was the code used for this problem. The code to update the frameX animation of the player was already there, so I just had encapsulated that code within my delay code which states if frameCounter is greater than or equal to frameUpdateDelay, then the animation can run, and reset frameCounter so it can continuously delay the player. The variables `frameUpdateDelay` & `frameCounter` are defined way before in the code."
   ]
  },
  {
   "cell_type": "code",
   "execution_count": null,
   "metadata": {
    "vscode": {
     "languageId": "javascript"
    }
   },
   "outputs": [],
   "source": [
    "//Variables to Delay Animation timing\n",
    "let frameUpdateDelay = 2;\n",
    "let frameCounter = 0;"
   ]
  },
  {
   "cell_type": "markdown",
   "metadata": {},
   "source": [
    "frameUpdateDelay slows down the animation the higher it is, as the higher the number the more the player updates itself before changing its animation. This was also used for the enemy, and was probably one of my favorite small additions to the game. A small, but very effective change."
   ]
  },
  {
   "cell_type": "markdown",
   "metadata": {},
   "source": [
    "There are plenty of other of these small achievements, many of which include findings that never made the game, which leads us into our next topic. Technicals that weren't implemented in the game but were significant nonetheless."
   ]
  },
  {
   "cell_type": "markdown",
   "metadata": {},
   "source": [
    "### Unadded Technicals\n",
    "We had multiple different things we couldn't add into other game, but I'll speak for my own technicals. One of the major things we would have added was adding randomization to our game. I'll quote from my own blog, what I said about randomization, *\"Randomization is an important asset for all games to have. They allow an experience to be unique and every time, which engages the users whom play the game.\"* Unfortunately, our game wasn't at the point where we could add such features.\n",
    "\n",
    "However, it wasn't for waste. I ended up making three tangibles. Rock Paper Scissors, Coin Flip, & Rock Paper Scissors 2. I learned randomization, ternary operators, parameters, interpolation, how to use local storage, local and global scopes, methods, etc. This branch away from the game, these separate games that I made were almost as fruitful in learning than the actual game."
   ]
  },
  {
   "cell_type": "code",
   "execution_count": null,
   "metadata": {
    "vscode": {
     "languageId": "javascript"
    }
   },
   "outputs": [],
   "source": [
    "//Define Head & Tails Variables\n",
    "let heads = 0;\n",
    "let tails = 0;\n",
    "\n",
    "//Flip the Coin\n",
    "let flip = Math.random();\n",
    "\n",
    "//If flip is less than or equal to 0.5, count it as tails, else count it as heads\n",
    "flip <= 0.5 ? tails++ : heads++\n",
    "\n",
    "//Log how many times heads & tails have landed\n",
    "console.log(`Heads has been landed ${heads} time(s)`)\n",
    "console.log(`Tails has been landed ${tails} time(s)`)"
   ]
  },
  {
   "cell_type": "markdown",
   "metadata": {},
   "source": [
    "These few lines of code show many technical achievements already. Using randomization, using ternary operators, and using interpolation. My Rock Paper Scissors game uses such tactics and much more as well."
   ]
  },
  {
   "cell_type": "markdown",
   "metadata": {},
   "source": [
    "### Numbers & Statistical Data\n",
    "\n",
    "As of writing this, I have **86** commits & **3,400** additions on my team's game repository. For perspective, my other team members, whom also contributed much, have a combined total of 90 commits to the game. I continued, by every passing week to learn more, to do more work, and to make a hopefully, functional game.\n",
    "\n",
    "<img src=\"{{site.baseurl}}/images/Blog/commits.png\" alt=\"picture of my team's commits\"/>\n",
    "\n",
    "You can see how as the weeks passed, the amount that I did exponentially increased, and only ended up decreasing in the end, as we were finally finished with the project. And while anyone can have a lot of commits, hopefully everything above proves those commits weren't without meaning. They were purposed by the power to learn & perfect.\n"
   ]
  }
 ],
 "metadata": {
  "language_info": {
   "name": "python"
  }
 },
 "nbformat": 4,
 "nbformat_minor": 2
}
