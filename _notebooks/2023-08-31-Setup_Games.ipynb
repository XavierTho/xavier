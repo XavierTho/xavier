{
 "cells": [
  {
   "cell_type": "markdown",
   "metadata": {},
   "source": [
    "---\n",
    "toc: false\n",
    "comments: false\n",
    "layout: post\n",
    "title: \"Setup Games\"\n",
    "type: hacks\n",
    "courses: { week: {week: 2} }\n",
    "---"
   ]
  },
  {
   "cell_type": "markdown",
   "metadata": {},
   "source": [
    "### Games\n",
    "\n",
    "How to add a game to your website? Well, it's quite simple as long as you aren't the one actually coding the game. First, pick one of the following games. Each game is quite simple and can be easily replicated onto a website.\n",
    "- Snake\n",
    "- Game of Life\n",
    "- Knowledge Quiz\n",
    "- Tetris\n",
    "- Simple Math Game\n",
    "\n",
    "The first steps to adding one of these games is creating a new file, particularly in the `_posts` folder of your website. Name this file `year-month-day-name_of_game.md`\n",
    "\n",
    "Once you have the file set and ready, you will need some preliminary code to add before pasting the code of your game of choice.\n",
    "\n",
    "- layout: post\n",
    "- title: [Name of Game]\n",
    "- description: [Description of Game]\n",
    "- type: hacks\n",
    "- courses: { week: {week: (current week)} }\n",
    "\n",
    "Once this code is added, copy paste the code of your game. Sometimes games will come with a `nav home` part of the code. Delete that or the website won't work. Other than that, you should have a working game!"
   ]
  },
  {
   "cell_type": "markdown",
   "metadata": {},
   "source": [
    "### Improve the Game\n",
    "If you'd like to understand the code behind the game a bit better or better yet, improve the game, consult ChatGPT. ChatGPT is great at both explaining code and improving upon it, making the games more interactive and enjoyable. It's important to note, in this process, do not blindly copy and paste code from ChatGPT. Try understanding what is going on as such experience will serve you later down the road."
   ]
  }
 ],
 "metadata": {
  "language_info": {
   "name": "python"
  },
  "orig_nbformat": 4
 },
 "nbformat": 4,
 "nbformat_minor": 2
}
