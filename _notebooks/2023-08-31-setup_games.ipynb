{
 "cells": [
  {
   "cell_type": "raw",
   "metadata": {},
   "source": [
    "---\n",
    "toc: true\n",
    "comments: false\n",
    "layout: post\n",
    "title: \"Setup Games\"\n",
    "type: hacks\n",
    "courses: { week: {week: 2} }\n",
    "---"
   ]
  },
  {
   "cell_type": "markdown",
   "metadata": {},
   "source": [
    "### Introductory Note\n",
    "> Games makes your website engaging, fun, and more whole than it would be without such. This guide isn't necessarily how to code an entire game but rather how to set up code made by someone else and then improve upon it."
   ]
  },
  {
   "cell_type": "markdown",
   "metadata": {},
   "source": [
    "### Adding Games\n",
    "\n",
    "Pick one of the following games. Game should be simple and easily replicable.\n",
    "- Snake\n",
    "- Game of Life\n",
    "- Quiz\n",
    "- Simple Math Game\n",
    "\n",
    "The first steps to adding one of these games is creating a new file, particularly in the `_posts` folder of your website. Name this file `year-month-day-name_of_game.md`\n",
    "\n",
    "Once you have the file set and ready, you will need some preliminary code to add before pasting the code of your game of choice.\n",
    "\n",
    "- layout: post\n",
    "- title: [Name of Game]\n",
    "- description: [Description of Game]\n",
    "- type: hacks\n",
    "- courses: { week: {week: (current week)} }\n",
    "\n",
    "Once this code is added, copy paste the code of your game. Sometimes games will come with a `nav home` part of the code. Delete that or the website won't work. Other than that, you should have a working game!\n",
    "\n",
    "If everything was set correctly, the file should look something like this:"
   ]
  },
  {
   "cell_type": "code",
   "execution_count": null,
   "metadata": {
    "vscode": {
     "languageId": "plaintext"
    }
   },
   "outputs": [],
   "source": [
    "<-- This First Part Is Your Own Code -->\n",
    "\n",
    "---\n",
    "layout: post\n",
    "title: Game Name\n",
    "description: description of the game\n",
    "type: tangibles\n",
    "courses: { week: {week: week number} }\n",
    "---\n",
    "\n",
    "\n",
    "<-- The rest of the code is Copy & Pasted -->\n",
    "\n",
    "<style>\n",
    "    Some Code in Here\n",
    "</style>\n",
    "\n",
    "<div class=\"container\">\n",
    "   Some Code in Here\n",
    "</div>\n",
    "\n",
    "<script>\n",
    "    Some Code in Here\n",
    "</script>"
   ]
  },
  {
   "cell_type": "markdown",
   "metadata": {},
   "source": [
    "### Improve the Game\n",
    "If you'd like to understand the code behind the game a bit better or better yet, improve the game, consult ChatGPT. ChatGPT is great at both explaining code and improving upon it, making the games more interactive and enjoyable. It's important to note, in this process, do not blindly copy and paste code from ChatGPT. Try understanding what is going on as such experience will serve you later down the road."
   ]
  }
 ],
 "metadata": {
  "language_info": {
   "name": "python"
  },
  "orig_nbformat": 4
 },
 "nbformat": 4,
 "nbformat_minor": 2
}
