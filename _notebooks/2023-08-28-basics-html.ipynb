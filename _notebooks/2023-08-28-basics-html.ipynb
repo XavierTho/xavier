{
 "cells": [
  {
   "cell_type": "raw",
   "metadata": {},
   "source": [
    "---\n",
    "toc: false\n",
    "comments: true\n",
    "layout: post\n",
    "title: Basics of HTML\n",
    "courses: { week: {week: 6} }\n",
    "hide: true\n",
    "permalink: /basics/html\n",
    "---"
   ]
  },
  {
   "cell_type": "markdown",
   "metadata": {},
   "source": [
    "{% include nav_basics.html %}\n"
   ]
  },
  {
   "cell_type": "code",
   "execution_count": 21,
   "metadata": {
    "vscode": {
     "languageId": "html"
    }
   },
   "outputs": [
    {
     "data": {
      "text/html": [
       "<head>\n",
       "  <link rel=\"stylesheet\" href=\"{{site.baseurl}}/assets/css/basics.css\">\n",
       "</head>\n",
       "\n",
       "\n",
       "<style>\n",
       "#button {\n",
       "  text-align: center;\n",
       "}\n",
       "</style>\n",
       "\n",
       "<div id=\"button\">\n",
       "    <p>This button needs to be paired with DOM</p>\n",
       "    <button class=\"button\">Click Me</button>\n",
       "</div>\n",
       "<br>\n",
       "<div style=\"text-align:center\">\n",
       "    <a href=\"/xavier/回家一个月\">Chinese Story</a>\n",
       "    <br>\n",
       "    <a href=\"https://www.youtube.com/watch?v=K63R4vMwlDY\">Song</a>\n",
       "    <p>Two hyperlinks that redirects you to a story about a boy who stays at home too long in chinese and a song in chinese</p>\n",
       "</div>\n"
      ],
      "text/plain": [
       "<IPython.core.display.HTML object>"
      ]
     },
     "metadata": {},
     "output_type": "display_data"
    }
   ],
   "source": [
    "%%html\n",
    "<head>\n",
    "  <link rel=\"stylesheet\" href=\"{{site.baseurl}}/assets/css/basics.css\">\n",
    "</head>\n",
    "\n",
    "\n",
    "<style>\n",
    "#button {\n",
    "  text-align: center;\n",
    "}\n",
    "</style>\n",
    "\n",
    "<div id=\"button\">\n",
    "    <p>This button needs to be paired with DOM</p>\n",
    "    <button class=\"button\">Click Me</button>\n",
    "</div>\n",
    "<br>\n",
    "<div style=\"text-align:center\">\n",
    "    <a href=\"/xavier/回家一个月\">Chinese Story</a>\n",
    "    <br>\n",
    "    <a href=\"https://www.youtube.com/watch?v=K63R4vMwlDY\">Song</a>\n",
    "    <p>Two hyperlinks that redirects you to a story about a boy who stays at home too long in chinese and a song in chinese</p>\n",
    "</div>"
   ]
  }
 ],
 "metadata": {
  "kernelspec": {
   "display_name": "Python 3",
   "language": "python",
   "name": "python3"
  },
  "language_info": {
   "codemirror_mode": {
    "name": "ipython",
    "version": 3
   },
   "file_extension": ".py",
   "mimetype": "text/x-python",
   "name": "python",
   "nbconvert_exporter": "python",
   "pygments_lexer": "ipython3",
   "version": "3.10.12"
  },
  "orig_nbformat": 4
 },
 "nbformat": 4,
 "nbformat_minor": 2
}
