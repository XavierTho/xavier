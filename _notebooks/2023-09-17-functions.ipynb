{
 "cells": [
  {
   "cell_type": "raw",
   "metadata": {},
   "source": [
    "---\n",
    "toc: true\n",
    "comments: false\n",
    "layout: post\n",
    "title: Functions\n",
    "type: hacks\n",
    "courses: { week: {week: 5} }\n",
    "---"
   ]
  },
  {
   "cell_type": "markdown",
   "metadata": {},
   "source": [
    "### Simple Function"
   ]
  },
  {
   "cell_type": "code",
   "execution_count": null,
   "metadata": {
    "vscode": {
     "languageId": "javascript"
    }
   },
   "outputs": [],
   "source": [
    "function hello() {\n",
    "    console.log(\"Hello World!\")\n",
    "}\n",
    "\n",
    "hello()"
   ]
  },
  {
   "cell_type": "markdown",
   "metadata": {},
   "source": [
    "### Function with Arguments"
   ]
  },
  {
   "cell_type": "code",
   "execution_count": null,
   "metadata": {
    "vscode": {
     "languageId": "javascript"
    }
   },
   "outputs": [],
   "source": []
  },
  {
   "cell_type": "code",
   "execution_count": null,
   "metadata": {
    "vscode": {
     "languageId": "javascript"
    }
   },
   "outputs": [],
   "source": [
    "%%js\n",
    "\n",
    "//Functon takes two paramters and outputs the product\n",
    "function multiplication(param1, param2) {\n",
    "    console.log(param1 * param2);\n",
    "}\n",
    "\n",
    "//Numbers can be directly added into the parameters\n",
    "multiplication(5,2) //5 * 2\n",
    "multiplication(10,10) //10 * 10\n",
    "\n",
    "//Function takes two parameters and outputs the sum\n",
    "function addition(param1, param2) {\n",
    "    console.log(param1 + param2)\n",
    "}\n",
    "\n",
    "//Variables can also be added into the parameters\n",
    "let num1 = 5\n",
    "let num2 = 5\n",
    "addition(num1,num2) // 5 + 5"
   ]
  },
  {
   "cell_type": "markdown",
   "metadata": {},
   "source": [
    "### Function with Return"
   ]
  },
  {
   "cell_type": "code",
   "execution_count": null,
   "metadata": {
    "vscode": {
     "languageId": "javascript"
    }
   },
   "outputs": [],
   "source": [
    "%%js\n",
    "\n",
    "//Function that returns a number times 5\n",
    "function timesFive(num) {\n",
    "    return num * 5\n",
    "}\n",
    "\n",
    "//If the variable is a Number, then output the result\n",
    "if (typeof num === Number) {\n",
    "    console.log(result)\n",
    "} else {\n",
    "    console.log(\"Please Enter a Number\")\n",
    "} // else output \"Please Enter a Number\"\n",
    "\n",
    "result = timesFive(\"Hello\") //Outputs NaN\n",
    "result = timesFive(5) // Outputs 25"
   ]
  },
  {
   "cell_type": "markdown",
   "metadata": {},
   "source": [
    "### Global & Local Scopes in Functions"
   ]
  },
  {
   "cell_type": "code",
   "execution_count": null,
   "metadata": {
    "vscode": {
     "languageId": "javascript"
    }
   },
   "outputs": [],
   "source": []
  }
 ],
 "metadata": {
  "language_info": {
   "name": "python"
  },
  "orig_nbformat": 4
 },
 "nbformat": 4,
 "nbformat_minor": 2
}
