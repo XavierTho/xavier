{
 "cells": [
  {
   "cell_type": "raw",
   "metadata": {},
   "source": [
    "---\n",
    "layout: post\n",
    "title: Youtube APIs\n",
    "toc: true\n",
    "comments: false\n",
    "type: hacks\n",
    "courses: { week: {week: 11} }\n",
    "---"
   ]
  },
  {
   "cell_type": "markdown",
   "metadata": {},
   "source": [
    "### Introduction\n",
    "There is no game if there is no music, and so with such knowledge, we have utilized the powers of the Youtube API to give us music. Sounds simple? Well, looking at it now, it is, but when we were originally figuring everything out, it sure wasn't. This will serve as your guide to setting up music or just plain youtube videos for your website, so you won't struggle as much as we did.\n",
    "\n",
    "> Keep in mind, we are basing this tutorial as if it were made purely for video, so if this isn't your goal, you will have to slightly adjust."
   ]
  },
  {
   "cell_type": "markdown",
   "metadata": {},
   "source": [
    "### HTML Setup\n",
    "For the video to actually load, and to actually give the user options for changing the music and customizing their experience, we have to add these things to HTML."
   ]
  },
  {
   "cell_type": "code",
   "execution_count": null,
   "metadata": {
    "vscode": {
     "languageId": "html"
    }
   },
   "outputs": [],
   "source": [
    "<div>\n",
    "  <!--Loads Youtube Video-->\n",
    "  <div id=\"player\"></div>\n",
    "\n",
    "    <!--HTML for Buttons-->\n",
    "    <button onclick=\"input()\" id=\"swapInput\">Change Music</button>\n",
    "    <button onclick=\"mute()\" id=\"muteButton\">Mute</button>\n",
    "\n",
    "    <!--If the Change Music button is clicked, reveal more input-->\n",
    "    <div id=\"inputVisible\" style=\"display:none\">\n",
    "        <input type=\"text\" id=\"URLId\" placeholder=\"Insert URL Here\">\n",
    "        <button onclick=\"changeLink()\">Swap Song</button>\n",
    "        <br><button onclick=\"defaultMusic()\" id=\"defaultButton\">Switch to Default 2</button>\n",
    "    </div>\n",
    "</div>"
   ]
  },
  {
   "cell_type": "markdown",
   "metadata": {},
   "source": [
    "A lot of this code, you probably don't understand, but that's ok. A lot of this code connects to the JavaScript part of this guide, which we'll touch on later. I'll note the most important attributes that should be reviewed. Each one has a comment above.\n",
    "\n",
    "1. The first line code actually loads the Youtube Player. Without this, there would be no video.\n",
    "2. There are Buttons that we defined to let the user change the music and mute it if need be.\n",
    "3. If the Change music button is clicked, inputs to change the music will be revealed.\n",
    "\n",
    "So in a nutshell, this code allows us to load the youtube video & allow the user to mute and customize the music. Now we'll go into actually how all of this works through a bit of JavaScript coding."
   ]
  },
  {
   "cell_type": "markdown",
   "metadata": {},
   "source": [
    "### JavaScript Input\n",
    "Before we setup the youtube player, we first need to setup the buttons which allow the user to interact the video.\n",
    "\n",
    "The first and most important button is the **Change Music** button. This button allows the users to change the music to nearly any video on Youtube."
   ]
  },
  {
   "cell_type": "code",
   "execution_count": null,
   "metadata": {
    "vscode": {
     "languageId": "javascript"
    }
   },
   "outputs": [],
   "source": [
    "// Input Bar Revealer\n",
    "let inputBar = true;\n",
    "function input() {\n",
    "    const inputVisible = document.getElementById(\"inputVisible\");\n",
    "\n",
    "    //Shows the input bar if previously unavaliable\n",
    "    if (inputBar) {\n",
    "        inputVisible.style.display = \"block\";\n",
    "        document.getElementById(\"swapInput\").innerHTML = \"Hide Input\"\n",
    "    } \n",
    "    //Hides it if previously avaliable\n",
    "    else {\n",
    "        inputVisible.style.display = \"none\";\n",
    "        document.getElementById(\"swapInput\").innerHTML = \"Show Input\"\n",
    "    }\n",
    "    inputBar = !inputBar;\n",
    "}"
   ]
  },
  {
   "cell_type": "markdown",
   "metadata": {},
   "source": [
    "This first part, as per the definition, of the comment, reveals the input bar. This input bar is what allows you to change the music. What the code is doing is if the input bar isn't there, pressing the button shows it, while if it's already there, pressing the button hides it. The way it does this is by changing the display of inputVisible. When it's shown, inputVisible is a block, else it's defined as \"none,\" which just means it's invisible.\n",
    "\n",
    "The next part of codeactually defines how to change the music."
   ]
  },
  {
   "cell_type": "code",
   "execution_count": null,
   "metadata": {
    "vscode": {
     "languageId": "javascript"
    }
   },
   "outputs": [],
   "source": [
    "// Code for video swapper\n",
    "let player;\n",
    "function changeLink() {\n",
    "    const inputText = document.getElementById(\"URLId\").value;\n",
    "    if (inputText.length >= 11) {\n",
    "        const videoId = inputText.substring(inputText.length - 11);\n",
    "        player.loadVideoById(videoId);\n",
    "    }\n",
    "}"
   ]
  },
  {
   "cell_type": "markdown",
   "metadata": {},
   "source": [
    "When the Swap Song button is pressed (can be found in the html section), the function changeLink will activate. This function takes the URL, manipulates it, and then feeds it into the Youtube API. Just like that, the music is changed.\n",
    "\n",
    "The last button, the mute button, is formatted as follows:"
   ]
  },
  {
   "cell_type": "code",
   "execution_count": null,
   "metadata": {
    "vscode": {
     "languageId": "javascript"
    }
   },
   "outputs": [],
   "source": [
    "// Mute Button\n",
    "function mute() {\n",
    "  if (player.isMuted()) {\n",
    "      player.unMute();\n",
    "      document.getElementById(\"muteButton\").innerHTML = \"Mute\"\n",
    "  } else {\n",
    "      player.mute();\n",
    "      document.getElementById(\"muteButton\").innerHTML = \"Unmute\"\n",
    "  }\n",
    "  isMuted = !isMuted;\n",
    "}"
   ]
  },
  {
   "cell_type": "markdown",
   "metadata": {},
   "source": [
    "Basically, if the mute button is pressed, two things can happen. If the video has already been muted, then pressing the button unmutes the video. However, if it hasn't been muted yet, pressing the buttion mutes the video. You'll see just like the code above, it's manipulating the player variable, which is part of the Youtube API, which now we'll finally get into."
   ]
  },
  {
   "cell_type": "markdown",
   "metadata": {},
   "source": [
    "### Youtube  API\n",
    "The first step in using the Youtube API is loading it onto the device."
   ]
  },
  {
   "cell_type": "code",
   "execution_count": null,
   "metadata": {
    "vscode": {
     "languageId": "javascript"
    }
   },
   "outputs": [],
   "source": [
    "// Load the YouTube IFrame API asynchronously\n",
    "const tag = document.createElement('script');\n",
    "tag.src = 'https://www.youtube.com/iframe_api';\n",
    "const firstScriptTag = document.getElementsByTagName('script')[0];\n",
    "firstScriptTag.parentNode.insertBefore(tag, firstScriptTag);"
   ]
  },
  {
   "cell_type": "markdown",
   "metadata": {},
   "source": [
    "This code is a bit complex (as much of the code in Youtube API documentation), but put simply, this code makes sure that the Youtube IFrame API is loaded onto the pag before any other script, which makes sure everything connects to the Youtube API correctly. While this loads the Youtube API onto the web, we still need to make use of it."
   ]
  },
  {
   "cell_type": "code",
   "execution_count": null,
   "metadata": {
    "vscode": {
     "languageId": "javascript"
    }
   },
   "outputs": [],
   "source": [
    "// This function creates an <iframe> (and YouTube player) after the API code downloads.\n",
    "function onYouTubeIframeAPIReady() {\n",
    "  \n",
    "  //Properties for Youtube Player\n",
    "  player = new YT.Player('player', {\n",
    "      height: '0',\n",
    "      width: '0',\n",
    "      videoId: \"xZhrZMervZU\",\n",
    "      playerVars: {\n",
    "          'autoplay': 1, //Automatically Plays Video\n",
    "          'loop': 1 //Loops Audio\n",
    "      },\n",
    "  });\n",
    "}"
   ]
  },
  {
   "cell_type": "markdown",
   "metadata": {},
   "source": [
    "This final and last bit of code defines the properties of the Youtube API on our device. You can see how we used it to be purely an auditorial experience. The height and width of IFrame is 0 & 0, making it so nothing can be seen but only music can be heard. The next property defines the default video to play, so the default music choice in our case.\n",
    "\n",
    "The last two properties, are autoplay and loop. This makes sures the video plays automatically when loaded and when the video finishes, it just loops itself."
   ]
  },
  {
   "cell_type": "markdown",
   "metadata": {},
   "source": [
    "### Ending Note\n",
    "The Youtube API is a very, very powerful tool in which web developers, such as you and me, can host Youtube Videos on our websites. And with a little bit of ingenuity, you can use it for many purposes, such as our purpose of creating customizable music for our game. If there is anything to take out of this guide, it wouldn't necessarily be the Youtube API, but the power of APIs in general and how they can be used to signficantly improve the experience of one's website. They truly allow for creative thinking to flourish."
   ]
  }
 ],
 "metadata": {
  "language_info": {
   "name": "python"
  }
 },
 "nbformat": 4,
 "nbformat_minor": 2
}
