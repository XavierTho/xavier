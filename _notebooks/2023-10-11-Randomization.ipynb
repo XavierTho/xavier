{
 "cells": [
  {
   "cell_type": "raw",
   "metadata": {},
   "source": [
    "---\n",
    "layout: post\n",
    "title: Randomization Logic\n",
    "toc: true\n",
    "comments: false\n",
    "type: hacks\n",
    "courses: { week: {week: 9} }\n",
    "---"
   ]
  },
  {
   "cell_type": "markdown",
   "metadata": {},
   "source": [
    "### Preliminary\n",
    "Randomization is an important asset for all games to have. They allow an experience to be unique and everytime, which engages the users whom play the game. Thankfully for us, JavaScript makes randomizing things simple and intutive and I'll show you how the method they provide can be used to make two classic games. Rock Paper Scissors & Flip a Coin.\n"
   ]
  },
  {
   "cell_type": "markdown",
   "metadata": {},
   "source": [
    "### Creating Randomness\n",
    "There is only one function that you need to randomize events. And that function is `Math.random()`. This one small function will be the most critical component of creating something random in JavaScript. Math.Random() on its own picks a random number that's greater than 0 and less than 1.\n"
   ]
  },
  {
   "cell_type": "code",
   "execution_count": null,
   "metadata": {
    "vscode": {
     "languageId": "javascript"
    }
   },
   "outputs": [],
   "source": [
    "console.log(Math.random());"
   ]
  },
  {
   "cell_type": "markdown",
   "metadata": {},
   "source": [
    "Running the following in the console, will output a random number through the already defined range we said above. Running this code multiple times will output a different random number each time. So, how exactly can we use this to create randomized events, such as a coin flip.\n",
    "\n",
    "Well, to do this, we can assign a range of numbers different properties. For examples if a number is between 0 and 0.5, it will be assigned the propety of tails, while any number greater than 0.5 will be assigned heads.\n",
    "\n",
    "The following is an example of this:"
   ]
  },
  {
   "cell_type": "code",
   "execution_count": null,
   "metadata": {
    "vscode": {
     "languageId": "javascript"
    }
   },
   "outputs": [],
   "source": [
    "//Define Head & Tails Variables\n",
    "let heads = 0;\n",
    "let tails = 0;\n",
    "\n",
    "//Flip the Coin\n",
    "let flip = Math.random();\n",
    "\n",
    "//If flip is less than or equal to 0.5, count it as tails, else count it as heads\n",
    "flip <= 0.5 ? tails++ : heads++\n",
    "\n",
    "//Log how many times heads & tails have landed\n",
    "console.log(`Heads has been landed ${heads} time(s)`)\n",
    "console.log(`Tails has been landed ${tails} time(s)`)"
   ]
  },
  {
   "cell_type": "markdown",
   "metadata": {},
   "source": [
    "This is a basic outline of how you can code a \"flip a coin\" type of game.  You can see, that we assigned Math.random() the variable \"flip\" as we will then use it in a ternary operator.\n",
    "\n",
    "The ternary operation  tells the computer if Math.random() equals less than or equal to 0.5, then add 1 to the tails variable. If it doesn't, then add to the heads 1 variable. It will then log the reuslts in the console, telling the user how many times heads has been landed on and how many times tails has been landed on.\n",
    "\n",
    "It's that simple! Before we conclude this guide though, I'll use a slightly more complex example of rock paper scissors. The code below, just like above will be a simple outline on how the logic for such a game would be created."
   ]
  },
  {
   "cell_type": "code",
   "execution_count": null,
   "metadata": {
    "vscode": {
     "languageId": "javascript"
    }
   },
   "outputs": [],
   "source": [
    "//Creates an array of possible choices\n",
    "let possibleChoices = [\"Rock\", \"Paper\", \"Scissors\"];\n",
    "  \n",
    "//Define Choice with no value\n",
    "let choice = \"\"\n",
    "\n",
    "//Function that makes computer choose its play and then output the result\n",
    "function computerChoice() {\n",
    "  //Defines Result variable\n",
    "  let result = \"\";\n",
    "\n",
    "  //Define Computer Move Variable\n",
    "  let computerMove =\"\";\n",
    "  \n",
    "    //Pick a Number 1-3 (Creates Randomization for Game)\n",
    "    let random = Math.floor(Math.random()*3 + 1);\n",
    "\n",
    "    //Translates Numbers into actual Moves\n",
    "    if (random === 1) {\n",
    "      computerMove = possibleChoices[0]\n",
    "    } else if (random === 2) {\n",
    "      computerMove = possibleChoices[1]\n",
    "    } else {\n",
    "      computerMove = possibleChoices[2]\n",
    "    }\n",
    "  }"
   ]
  },
  {
   "cell_type": "markdown",
   "metadata": {},
   "source": [
    "This is a slice of code from the Rock Paper Scissors game that can be found on this website. The most important part for your understanding is how Math.random() is being manipulated (`Math.floor(Math.random()*3 + 1)`). This makes Math.random() output either 1, 2, or 3. The exact logic to how this is done is out of a scope for this guide, but it's here to show you how powerful this one function can be and inspire you to have your own ideas.\n",
    "\n",
    "The whole version of these games can be found below:\n",
    "- <a href=\"/Game//2023/10/11/Rock_Paper_Scissors.html\">Rock Paper Scissors</a>\n",
    "- <a href=\"{{site.baseurl}}/Game/_posts/2023-10-11-Coin_Flip.md\">Flip a Coin</a>"
   ]
  },
  {
   "cell_type": "code",
   "execution_count": null,
   "metadata": {
    "vscode": {
     "languageId": "javascript"
    }
   },
   "outputs": [],
   "source": []
  }
 ],
 "metadata": {
  "language_info": {
   "name": "python"
  }
 },
 "nbformat": 4,
 "nbformat_minor": 2
}
