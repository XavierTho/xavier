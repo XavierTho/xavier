{
 "cells": [
  {
   "cell_type": "raw",
   "metadata": {},
   "source": [
    "---\n",
    "toc: true\n",
    "comments: false\n",
    "layout: post\n",
    "title: Improving Snake\n",
    "type: hacks\n",
    "courses: { week: {week: 3} }\n",
    "---"
   ]
  },
  {
   "cell_type": "markdown",
   "metadata": {},
   "source": [
    "### Introduction\n",
    "Would you like to know how to change your snake game from barely functional to a masterpiece? Well, look no further! In a few simple steps, we'll significantly improve your snake game. Any other changes will be an exercise for you, the reader.\n",
    "\n",
    "### WASD\n",
    "The first step to improving your snake game is changing your controls from the simple-minded, horrendous arrow keys to the magnificent, angelic WASD keys. Not only are these the optimal controls for any game, but it's a simple solution to fixing the problem in which when you use arrow keys to move your snake, the website scrolls with the snake!\n",
    "\n",
    "If you may have noticed already, in the snake code that was provided, there is a section for \"Key Inputs and Actions\" where the controls for the game can be found."
   ]
  },
  {
   "cell_type": "code",
   "execution_count": null,
   "metadata": {
    "vscode": {
     "languageId": "plaintext"
    }
   },
   "outputs": [],
   "source": [
    "        /* Key Inputs and Actions */\n",
    "        /////////////////////////////////////////////////////////////\n",
    "        let changeDir = function(key){\n",
    "            // test key and switch direction\n",
    "            switch(key) {\n",
    "                case 37:    // left arrow\n",
    "                    if (snake_dir !== 1)    // not right\n",
    "                        snake_next_dir = 3; // then switch left\n",
    "                    break;\n",
    "                case 38:    // up arrow\n",
    "                    if (snake_dir !== 2)    // not down\n",
    "                        snake_next_dir = 0; // then switch up\n",
    "                    break;\n",
    "                case 39:    // right arrow\n",
    "                    if (snake_dir !== 3)    // not left\n",
    "                        snake_next_dir = 1; // then switch right\n",
    "                    break;\n",
    "                case 40:    // down arrow\n",
    "                    if (snake_dir !== 0)    // not up\n",
    "                        snake_next_dir = 2; // then switch down\n",
    "                    break;\n",
    "            }\n",
    "        }"
   ]
  },
  {
   "cell_type": "markdown",
   "metadata": {},
   "source": [
    "While the code is a bit complicated, what we care about is quite simple to find. You'll see each part of the code is commented to highlight what function such code provides. You'll also have noticed that each section of the code has it's own \"case,\" which is a means of identification for all types of keystrokes.\n",
    "- Case 37 = Left Arrow\n",
    "- Case 38 = Up Arrow\n",
    "- Case 39 = Right Arrow\n",
    "- Case 40 = Down Arrow\n",
    "\n",
    "To change these controls to WASD, all you have to do is find the corresponding keys that match W, A, S, & D. The following would output you these results.\n",
    "- Case 65 = A (Left)\n",
    "- Case 87 = W (Up)\n",
    "- Case 68 = D (Right)\n",
    "- Case 83 = S (Down)\n",
    "\n",
    "> [Here's a list of a all the different key identifications for javascript](https://www.freecodecamp.org/news/javascript-keycode-list-keypress-event-key-codes/)"
   ]
  },
  {
   "cell_type": "code",
   "execution_count": null,
   "metadata": {
    "vscode": {
     "languageId": "plaintext"
    }
   },
   "outputs": [],
   "source": [
    "        /* Key Inputs and Actions */\n",
    "        /////////////////////////////////////////////////////////////\n",
    "        let changeDir = function(key){\n",
    "            // test key and switch direction\n",
    "            switch(key) {\n",
    "                case 65:    // A (Left)\n",
    "                    if (snake_dir !== 1)    // not right\n",
    "                        snake_next_dir = 3; // then switch left\n",
    "                    break;\n",
    "                case 87:    // W (Up)\n",
    "                    if (snake_dir !== 2)    // not down\n",
    "                        snake_next_dir = 0; // then switch up\n",
    "                    break;\n",
    "                case 68:    // D (Right)\n",
    "                    if (snake_dir !== 3)    // not left\n",
    "                        snake_next_dir = 1; // then switch right\n",
    "                    break;\n",
    "                case 83:    // S (Down)\n",
    "                    if (snake_dir !== 0)    // not up\n",
    "                        snake_next_dir = 2; // then switch down\n",
    "                    break;\n",
    "            }\n",
    "        }"
   ]
  },
  {
   "cell_type": "markdown",
   "metadata": {},
   "source": [
    "This is what your code should look like now. Each arrow has been changed to a WASD key. Now you should be fully converted to WASD and have solved the issue of the website scrolling up and down when using arrow keys."
   ]
  },
  {
   "cell_type": "markdown",
   "metadata": {},
   "source": [
    "### Green Snake, Red Apple\n",
    "The code of the game is developed so that both the snake and the apple share the same color. Changing it so these two entities have two different colors isn't as complicated as some make it out to be."
   ]
  },
  {
   "cell_type": "code",
   "execution_count": null,
   "metadata": {
    "vscode": {
     "languageId": "plaintext"
    }
   },
   "outputs": [],
   "source": [
    "/* Dot for Food or Snake part */\n",
    "        /////////////////////////////////////////////////////////////\n",
    "        let activeDot = function(x, y){\n",
    "            ctx.fillStyle = \"#FFFFFF\";\n",
    "            ctx.fillRect(x * BLOCK, y * BLOCK, BLOCK, BLOCK);\n",
    "        }"
   ]
  },
  {
   "cell_type": "markdown",
   "metadata": {},
   "source": [
    "You'll see that the following code defines the color for the snake and apple. Both are defined to be white. So how can we make the food a different color, so that the snake, for now, will be white, and the apple will be red.\n",
    "\n",
    "Well, you'll notice that this code is within the activeDot function, so if we wanted to have two different colors, why not make a function called activeDot2?"
   ]
  },
  {
   "cell_type": "code",
   "execution_count": null,
   "metadata": {
    "vscode": {
     "languageId": "plaintext"
    }
   },
   "outputs": [],
   "source": [
    "/* Dot for Food or Snake part */\n",
    "        /////////////////////////////////////////////////////////////\n",
    "\n",
    "        //Color For Snake\n",
    "        let activeDot = function(x, y){\n",
    "            ctx.fillStyle = \"#7CFC00\";\n",
    "            ctx.fillRect(x * BLOCK, y * BLOCK, BLOCK, BLOCK);\n",
    "        }\n",
    "\n",
    "        // Color for Apple\n",
    "        let activeDot2 = function(x, y){\n",
    "            ctx.fillStyle = \"#DC143C\";\n",
    "            ctx.fillRect(x * BLOCK, y * BLOCK, BLOCK, BLOCK);\n",
    "        }"
   ]
  },
  {
   "cell_type": "markdown",
   "metadata": {},
   "source": [
    "Now we have two different functions, defining two different colors. The color of the snake is now defined to be the color green (change in the hex value) and the apple is defined to be red. Now, one other step must be done in order for the colors to be different.\n",
    "\n",
    "In another part of the code, to paint the food activeDot is called upon. However, we want to change this to activeDot2."
   ]
  },
  {
   "cell_type": "code",
   "execution_count": null,
   "metadata": {
    "vscode": {
     "languageId": "plaintext"
    }
   },
   "outputs": [],
   "source": [
    "// Paint food\n",
    "activeDot(food.x, food.y);"
   ]
  },
  {
   "cell_type": "code",
   "execution_count": null,
   "metadata": {
    "vscode": {
     "languageId": "plaintext"
    }
   },
   "outputs": [],
   "source": [
    "// Paint food\n",
    "activeDot2(food.x, food.y);"
   ]
  },
  {
   "cell_type": "markdown",
   "metadata": {},
   "source": [
    "A slight, but essential difference. Doing all of this will make both your snake and apple have two different and distinct colors."
   ]
  },
  {
   "cell_type": "markdown",
   "metadata": {},
   "source": [
    "### Master of Small Changes\n",
    "Often overlooked, but very important in having a great game, is a compound of small details that make the overall experience much better than it would be without. I'll provide one example in which you should add to your own game. And that change would be changing the design of your score counter. Be default this code is small, found in the left corner of the screen, and barely noticeable."
   ]
  },
  {
   "cell_type": "code",
   "execution_count": null,
   "metadata": {
    "vscode": {
     "languageId": "plaintext"
    }
   },
   "outputs": [],
   "source": [
    "<header class=\"pb-3 mb-4 border-bottom border-primary text-dark\">\n",
    "    <p class=\"fs-4\">Snake score: <span id=\"score_value\">0</span></p>\n",
    "</header>"
   ]
  },
  {
   "cell_type": "markdown",
   "metadata": {},
   "source": [
    "Instead of having the score be \"Snake score: 0,\" why not have the score be signified as \"🍎: 0\" It's a much simpler and nicer design which conveys the same message. The score/how much food the snake has eaten."
   ]
  },
  {
   "cell_type": "code",
   "execution_count": null,
   "metadata": {
    "vscode": {
     "languageId": "plaintext"
    }
   },
   "outputs": [],
   "source": [
    "<p class=\"fs-4\">🍎: <span id=\"score_value\">0</span></p>"
   ]
  },
  {
   "cell_type": "markdown",
   "metadata": {},
   "source": [
    "This itself though is not enough, you have to style this particular to make it look even better."
   ]
  },
  {
   "cell_type": "code",
   "execution_count": null,
   "metadata": {
    "vscode": {
     "languageId": "plaintext"
    }
   },
   "outputs": [],
   "source": [
    "    .fs-4 {\n",
    "        font-size: 40px;\n",
    "        font-weight: bold;\n",
    "        text-align: center;\n",
    "    }"
   ]
  },
  {
   "cell_type": "markdown",
   "metadata": {},
   "source": [
    "The following code should be added to the style section of your code. This code specifies that .fs-4 (the class being used for our score) should have a large font, bold text, and centered to the middle of the screen. All of this will make the score very prominent, while still in no way being a distraction when playing the game. It's changes like this that make a good game a great game."
   ]
  },
  {
   "cell_type": "markdown",
   "metadata": {},
   "source": [
    "### Ending Notes\n",
    "Both WASD, different colors for your snake and the apple, and bolder snake score is but of the beginning of your endeavor. Consider adding audio, easter eggs, different themes, and a lot of small, meaningful changes. There is so much more to do and I hope you can improve your snake game to be that of wonder."
   ]
  }
 ],
 "metadata": {
  "language_info": {
   "name": "python"
  },
  "orig_nbformat": 4
 },
 "nbformat": 4,
 "nbformat_minor": 2
}
