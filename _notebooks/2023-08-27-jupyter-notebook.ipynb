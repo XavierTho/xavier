{
 "cells": [
  {
   "cell_type": "raw",
   "metadata": {},
   "source": [
    "---\n",
    "toc: true\n",
    "comments: false\n",
    "layout: post\n",
    "title: Jupyter Notebook\n",
    "description: Guide on setting up a jupyter notebook\n",
    "type: hacks\n",
    "courses: { week: {week: 1} }\n",
    "---"
   ]
  },
  {
   "cell_type": "markdown",
   "metadata": {},
   "source": [
    "### Introductory Note\n",
    "> Jupyter notebooks allow for the combination of code and text to make a cohesive guide on subjects related to programming. It's important to know how to make them, hence the reason for this guide. This hack itself is a jupyter notebook!"
   ]
  },
  {
   "cell_type": "markdown",
   "metadata": {},
   "source": [
    "### Set Up The File\n",
    "1. Make a new file in `_notebook`\n",
    "2. Name the file `year-month-day-name_of_notebook.ipynb`\n",
    "\n",
    "Now that you have a file to work with, you need to set up the preliminary data of the file.\n"
   ]
  },
  {
   "cell_type": "code",
   "execution_count": null,
   "metadata": {
    "vscode": {
     "languageId": "plaintext"
    }
   },
   "outputs": [],
   "source": [
    "---\n",
    "toc: true\n",
    "comments: false\n",
    "layout: post\n",
    "title: Name of Notebook\n",
    "description: description of notebook\n",
    "type: hacks\n",
    "courses: { week: {week: week goes here} }\n",
    "---"
   ]
  },
  {
   "cell_type": "markdown",
   "metadata": {},
   "source": [
    "### Adding Content\n",
    "You'll see that the formatting for a jupyter notebook is different than other files. Text is separated into different blocks. These different allows for the code to be put into different places, so they don't intermingle, and can display without issue.\n",
    "\n",
    " For displaying actual code, it's best to make the block classified as plain text as the code will actually do what its told otherwise. This means you won't actually see the code but the result of the code. In some cases, this is what you want, but for many other scenarios, you don't want this.\n",
    "\n",
    " > This is what you had to do to add the data above. You had to make a Markdown block and put your code in there."
   ]
  }
 ],
 "metadata": {
  "language_info": {
   "name": "python"
  },
  "orig_nbformat": 4
 },
 "nbformat": 4,
 "nbformat_minor": 2
}
