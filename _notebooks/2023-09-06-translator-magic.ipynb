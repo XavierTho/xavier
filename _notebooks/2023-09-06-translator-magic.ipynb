{
 "cells": [
  {
   "cell_type": "markdown",
   "metadata": {},
   "source": [
    "---\n",
    "toc: true\n",
    "comments: false\n",
    "layout: post\n",
    "title: Translator Magic\n",
    "type: hacks\n",
    "courses: { week: {week: 3} }\n",
    "---"
   ]
  },
  {
   "cell_type": "markdown",
   "metadata": {},
   "source": [
    "### Preliminary\n",
    "As your website improves, in both content and quality, it should be of consideration to add a translator to your website so you can be understood by the widest of audiences. Plus, even if it isn't necessarily needed, it's still a fun exercise and a cool thing for any website to add.\n",
    "\n",
    "### Setting up a Translator\n",
    "Setting up a translator isn't difficult. All the hard work of translation has already been done for you; aka Google Translate! All that you have to do for your website is add the code for google translate to function. The following code is all you need:"
   ]
  },
  {
   "cell_type": "code",
   "execution_count": null,
   "metadata": {
    "vscode": {
     "languageId": "javascript"
    }
   },
   "outputs": [],
   "source": [
    "<!-- Google Translate -->\n",
    "<div id=\"google_translate_element\"></div>\n",
    "\n",
    "<script type=\"text/javascript\">\n",
    "function googleTranslateElementInit() {\n",
    "  new google.translate.TranslateElement({pageLanguage: 'en'}, 'google_translate_element');\n",
    "}\n",
    "</script>\n",
    "\n",
    "<script type=\"text/javascript\" src=\"//translate.google.com/translate_a/element.js?cb=googleTranslateElementInit\"></script>"
   ]
  },
  {
   "cell_type": "markdown",
   "metadata": {},
   "source": [
    "### Adding the Code\n",
    "The code you see here is all the code necessary for adding Google Translate to your own website. Instead of adding this code individually to each page in your website, you can add this code to each of your templates of your website, which in turn connects to all of your pages.\n",
    "\n",
    "The following files is where you have to add the code. All these files are found within the `_layouts` folder.\n",
    "- `blogs.html`\n",
    "- `default.html`\n",
    "- `post.html`\n",
    "- `schedule.html`\n",
    "- `any-other-layout-you-added.html`\n",
    "\n",
    "This code should be added at the end of each of these files, separate from the rest of the code.\n",
    "\n",
    "If you correctly followed the steps above, you'll see at the bottom of each page in your website that you can \"select\" a language. The list is quite large. English, Spanish, Chinese, Zulu, Latin, etc. Obviously the less well-known the language is, the less accurate the translation will be, but besides such a barrier, it serves a a great step for multilingual communication in a website."
   ]
  },
  {
   "cell_type": "markdown",
   "metadata": {},
   "source": [
    "### English to Spanish\n",
    "<img align=\"center\" style=\"border:10px outset silver;\" src=\"{{site.baseurl}}/images/english.png\" height=\"200px\" alt=\"freeform\"/>\n",
    "<img align=\"center\" style=\"border:10px outset silver;\" src=\"{{site.baseurl}}/images/spanish.png\" height=\"200px\" alt=\"freeform\"/>"
   ]
  },
  {
   "cell_type": "markdown",
   "metadata": {},
   "source": [
    "### How could this be better?\n",
    "Most people on your website will only see this translator by accident. This is a problem. Those who speak other languages will be immediately turned off by the fact that the website is in another language without realizing it can be changed. So how can such a translation method be improved? Well, to combat such an issue, you can automatically change the language of the website based on the geolocation of someone 's device which can be found based off their IP address.\n",
    "\n",
    "How could this be done? I don't know, it's merely a thought to keep in mind as you progress in your coding abilities."
   ]
  }
 ],
 "metadata": {
  "language_info": {
   "name": "python"
  },
  "orig_nbformat": 4
 },
 "nbformat": 4,
 "nbformat_minor": 2
}
