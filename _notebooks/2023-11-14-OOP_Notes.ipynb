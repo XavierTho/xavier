{
 "cells": [
  {
   "cell_type": "raw",
   "metadata": {},
   "source": [
    "---\n",
    "type: hacks\n",
    "comments: true\n",
    "layout: post\n",
    "title: OOP Notes\n",
    "courses: { week: {week: 14} }\n",
    "---"
   ]
  },
  {
   "cell_type": "markdown",
   "metadata": {},
   "source": [
    "## Notes\n",
    "> The following is personal notes on Object Oriented Coding. A more concise hack on OOP can be found later on."
   ]
  },
  {
   "cell_type": "markdown",
   "metadata": {},
   "source": [
    "### Objects\n",
    "Objects group multiple values together that are related to each other. For example, all cars have wheels, color, and weight.\n"
   ]
  },
  {
   "cell_type": "markdown",
   "metadata": {},
   "source": [
    "const car {\n",
    "  wheels: 4;\n",
    "  color: white;\n",
    "  weight: 500kg;\n",
    "}"
   ]
  }
 ],
 "metadata": {
  "language_info": {
   "name": "python"
  }
 },
 "nbformat": 4,
 "nbformat_minor": 2
}
