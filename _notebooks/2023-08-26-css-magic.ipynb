{
 "cells": [
  {
   "cell_type": "raw",
   "metadata": {},
   "source": [
    "---\n",
    "layout: post\n",
    "title: CSS Magic\n",
    "toc: true\n",
    "description: How to get CSS working for your website\n",
    "type: hacks\n",
    "courses: { week: {week: 1} }\n",
    "---"
   ]
  },
  {
   "cell_type": "markdown",
   "metadata": {},
   "source": [
    "### Introductory Note\n",
    "> When trying to set up a remote theme for your website, often the theme will look nothing like the example and it'll leave wondering whether you do something wrong or not. This is the revelation I went through, till I found out a way to make it all work."
   ]
  },
  {
   "cell_type": "markdown",
   "metadata": {},
   "source": [
    "### Pick a Theme\n",
    "- To preview what these themes could look, check here: [page-themes](https://github.com/orgs/pages-themes/repositories?type=all)\n",
    "- Once you've made your decision, go to `_config.yml` in your website"
   ]
  },
  {
   "cell_type": "code",
   "execution_count": 3,
   "metadata": {},
   "outputs": [],
   "source": [
    "#Uncomment the theme you'd like for your website\n",
    "\n",
    "# remote_theme: pages-themes/minimal@v0.2.0\n",
    "# remote_theme: pages-themes/leap-day@v0.2.0\n",
    "# remote_theme: pages-themes/cayman@v0.2.0\n",
    "# remote_theme: pages-themes/hacker@v0.2.0\n",
    "# remote_theme: pages-themes/midnight@v0.2.0\n",
    "# remote_theme: pages-themes/slate@v0.2.0\n",
    "# remote_theme: pages-themes/primer@v0.2.0\n",
    "# remote_theme: pages-themes/architect@v0.2.0\n",
    "# remote_theme: pages-themes/modernist@v0.2.0\n",
    "# remote_theme: pages-themes/time-machine@v0.2.0\n",
    "# remote_theme: pages-themes/dinky@v0.2.0\n",
    "# remote_theme: pages-themes/merlot@v0.2.0\n",
    "# remote_theme: pages-themes/tactile@v0.2.0"
   ]
  },
  {
   "cell_type": "markdown",
   "metadata": {},
   "source": [
    "### Setting Up the Theme\n",
    "> Once you choose your theme, you'll see the CSS for the website will change. However it won't look like the preview just yet. For this example, I'll be setting up the theme 'cayman' (the one I use). However, these steps are applicable for the rest of themes above.\n",
    "\n",
    "- Go to [https://github.com/pages-themes/yourtheme](https://github.com/pages-themes/cayman)\n",
    "- Once at the theme you'd like to setup, go to `_layouts/default.html`\n",
    "- Copy the code and paste into your `_layouts/default.html`\n",
    "\n",
    "Now run your website. You'll see that theme looks much, much better than before. However, you'll also see your website doesn't look quite right. This is because the code you copied and pasted needs to be edited to fit the needs of your website.\n",
    "\n",
    "> To have an idea on how to do this, check out my [default.html](https://github.com/XavierTho/xavier/blob/main/_layouts/default.html) file to get an idea on what to do."
   ]
  },
  {
   "cell_type": "markdown",
   "metadata": {},
   "source": [
    "### Before & After\n",
    "<img align=\"center\" style=\"border:10px outset silver;\" src=\"{{site.baseurl}}/images/old.png\" height=\"200px\" alt=\"freeform\"/>\n",
    "<img align=\"center\" style=\"border:10px outset silver;\" src=\"{{site.baseurl}}/images/new.png\" height=\"200px\" alt=\"freeform\"/>"
   ]
  }
 ],
 "metadata": {
  "kernelspec": {
   "display_name": "Python 3",
   "language": "python",
   "name": "python3"
  },
  "language_info": {
   "codemirror_mode": {
    "name": "ipython",
    "version": 3
   },
   "file_extension": ".py",
   "mimetype": "text/x-python",
   "name": "python",
   "nbconvert_exporter": "python",
   "pygments_lexer": "ipython3",
   "version": "3.10.12"
  },
  "orig_nbformat": 4
 },
 "nbformat": 4,
 "nbformat_minor": 2
}
