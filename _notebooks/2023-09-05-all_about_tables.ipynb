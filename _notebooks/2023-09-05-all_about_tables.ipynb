{
 "cells": [
  {
   "cell_type": "raw",
   "metadata": {},
   "source": [
    "---\n",
    "toc: true\n",
    "comments: false\n",
    "layout: post\n",
    "title: All About Tables\n",
    "type: hacks\n",
    "courses: { week: {week: 3} }\n",
    "---"
   ]
  },
  {
   "cell_type": "markdown",
   "metadata": {},
   "source": [
    "### Introduction\n",
    "Tables! A beautiful, simple way, of categorically organizing data into neat columns and rows, making data more easily understood and organized. So how can we make these wonders of the world! Freight not, because we shall delve deep into such and all secrets shall be revealed.\n",
    "\n",
    "---"
   ]
  },
  {
   "cell_type": "markdown",
   "metadata": {},
   "source": [
    "### Markdown \n",
    "First we'll go over how to make markdown tables. The nice thing about markdown tables is the fact they actually look like tables when you're coding them, which isn't true for HTML tables. The following is an example of what a table in markdown make look like:\n",
    "\n",
    "```\n",
    "| Number      | In Binary   |\n",
    "| ----------- | ----------- |\n",
    "| 1           | 00000001    |\n",
    "| 2           | 00000010    |\n",
    "\n",
    "```\n",
    "\n",
    "Output:\n",
    "\n",
    "| Number      | In Binary   |\n",
    "| ----------- | ----------- |\n",
    "| 1           | 00000001    |\n",
    "| 2           | 00000010    |\n",
    "\n",
    "\n",
    "However, making these tables are quite tedious and really a waste of time. Alas, there is a solution! Instead of actually coding a markdown table as that takes up too much time, there are markdown table generators where you can design a table as if it were a spreadsheet.\n",
    "\n",
    "> <p><a href=\"https://www.tablesgenerator.com/markdown_tables\" target=\"_blank\" rel=\"noopener noreferrer\">Markdown Table Generator</a></p>\n",
    "\n",
    "So, there you have it. Markdown tables and all their beauty. Expect... when they aren't beautiful. Markdown tables, when stretched to their limit, can often turn into an ugly bunch of code that no one wants to deal with.\n",
    "\n"
   ]
  },
  {
   "cell_type": "markdown",
   "metadata": {},
   "source": [
    "### HTML\n",
    "Now, for HTML, the preferred choice of tables. Not only is the code more neatly organized (even while not looking like a table) but also with a combination of javascript, tables become an amazing, interactive part of one's website.\n",
    "\n",
    "> The following is an example of code for an HTML table.\n",
    "\n",
    "```\n",
    "<!-- Start of Table -->\n",
    "<table>\n",
    "\n",
    "  <!-- Table Headers-->\n",
    "  <tr>\n",
    "    <th>Watch</th>\n",
    "    <th>Cost</th>\n",
    "    <th>Battery Life (H)</th>\n",
    "  </tr>\n",
    "  \n",
    "  <!-- Apple -->\n",
    "  <tr>\n",
    "    <td>Apple</td>\n",
    "    <td>$250-$800</td>\n",
    "    <td>18</td>\n",
    "  </tr>\n",
    "\n",
    "  <!-- Fitbit -->\n",
    "  <tr>\n",
    "    <td>Fitbit</td>\n",
    "    <td>$200-400</td>\n",
    "    <td>24-48</td>\n",
    "  </tr>\n",
    "\n",
    "  <!-- Garmin -->\n",
    "  <tr>\n",
    "    <td>Garmin</td>\n",
    "    <td>$200-$1000</td>\n",
    "    <td>1200</td>\n",
    "  </tr>\n",
    "\n",
    "<!-- End of Table -->\n",
    "</table>\n",
    "```"
   ]
  },
  {
   "cell_type": "markdown",
   "metadata": {},
   "source": [
    "#### Anatomy of Code\n",
    "Here's a few things to note down about the code\n",
    "1. `<table>` - Indicates the start and end of the HTML table.\n",
    "2. `<tr>` - Groups table cells belonging to the same row.\n",
    "3. `<th>` - Indicates a header for a column.\n",
    "4. `<td>` - Contains the bulk of information for table.\n",
    "\n",
    "An HTML has a structurally, intuitive methods for organizing their tables. The *<table>* cell indicates the start and end of tables and all information about the table must be contained with this cell. Further in, there is the *<tr>* cell, which organized separate cells into their own mini groups. You can see from the example above that the table headers are separate from the watches and the watches are separate from each other. \n",
    "\n",
    "Within *<tr>* is either *<th>* or more commonly, *<td>.* *<th>* defines the table headers of the table, while *<td>* is the table data, where most of the information on the table goes into this cell.\n",
    "\n",
    "#### Simple Template\n",
    "\n",
    "```\n",
    "<table>\n",
    "    <!-- Row 1 -->\n",
    "    <tr>\n",
    "        <th>Header1</th>\n",
    "        <th>Header2</th>\n",
    "    </tr>\n",
    "\n",
    "    <!-- Row 2 -->\n",
    "    <tr>\n",
    "        <th>Data</th>\n",
    "        <th>Data</th>\n",
    "    </tr>\n",
    "</table>\n",
    "```\n",
    "\n",
    "Output:\n",
    "<table>\n",
    "    <!-- Row 1 -->\n",
    "    <tr>\n",
    "        <th>Header1</th>\n",
    "        <th>Header2</th>\n",
    "    </tr>\n",
    "    <!-- Row 2 -->\n",
    "    <tr>\n",
    "        <th>Data</th>\n",
    "        <th>Data</th>\n",
    "    </tr>\n",
    "</table>\n",
    "\n",
    "> You can see how the output for both Markdown and HTML end up with the same format\n",
    "\n",
    "While yes, HTML is more complex than a markdown table, it's really simple to learn and much easier to setup once understood. Also, most importantly, as preluded before html tables can be combined with javascript which leads us into the next part of this guide."
   ]
  },
  {
   "cell_type": "markdown",
   "metadata": {},
   "source": [
    "### Javascript Table\n",
    "Javascript tables are the best of tables. Combined with the foundational code of html and with its own unique attributes, tables can be designed to interact with the user and allow the user to manipulate the data of a table to get the most comprehensive outlook on the data in that table.\n",
    "\n",
    "Let's use my own table (simplified) I created for this example."
   ]
  },
  {
   "cell_type": "code",
   "execution_count": null,
   "metadata": {},
   "outputs": [],
   "source": [
    "<!-- Start of Table -->\n",
    "<table>\n",
    "\n",
    "  <!-- Table Headers -->\n",
    "  <thead>\n",
    "    <tr>\n",
    "      <th>Continent</th>\n",
    "      <th>Population (M)</th>\n",
    "      <th>Growth Rate</th>\n",
    "      <th>Life Expectancy</th>\n",
    "      <th>GDP (T)</th>\n",
    "      <th>Share (%)</th>\n",
    "      <th>Richest Country</th>\n",
    "    </tr>\n",
    "  </thead>\n",
    "\n",
    "  <!--Asia -->\n",
    "  <tr>\n",
    "    <td>Asia</td>\n",
    "    <td>4694</td>\n",
    "    <td>1.05%</td>\n",
    "    <td>74.06</td>\n",
    "    <td>$40.25</td>\n",
    "    <td>38.1%</td>\n",
    "    <td>China</td>\n",
    "  </tr>\n",
    "\n",
    "<!-- End of Table -->\n",
    "</table>"
   ]
  },
  {
   "cell_type": "markdown",
   "metadata": {},
   "source": [
    "We already know how this table works. What we want to find out is how to change this table so it can better categorize the data (we can view each column by greatest to least or alphabetically). So how do we do this? Well, like for many things before, we call upon code that someone else has already made! What we do is the easy part."
   ]
  },
  {
   "cell_type": "code",
   "execution_count": null,
   "metadata": {},
   "outputs": [],
   "source": [
    "\n",
    "<!-- Head contains information to Support the Document -->\n",
    "<head>\n",
    "    <!-- load jQuery and DataTables output style and scripts -->\n",
    "    <link rel=\"stylesheet\" type=\"text/css\" href=\"https://cdn.datatables.net/1.13.4/css/jquery.dataTables.min.css\">\n",
    "    <script type=\"text/javascript\" language=\"javascript\" src=\"https://code.jquery.com/jquery-3.6.0.min.js\"></script>\n",
    "    <script>var define = null;</script>\n",
    "    <script type=\"text/javascript\" language=\"javascript\" src=\"https://cdn.datatables.net/1.13.4/js/jquery.dataTables.min.js\"></script>\n",
    "</head>"
   ]
  },
  {
   "cell_type": "markdown",
   "metadata": {},
   "source": [
    "This code essentially calls upon code from external sources to give HTML tables the ability to search, search, and have multiple pages. It contains all the CSS and Javascript needed for such a javascript table. It is in essence what part of the javascript code gives us the function for our table.\n",
    "\n",
    "This is not all the code that you'll need though, you still have to apply the code that has been called upon to your table. The first step in doing this is adding an id to your table which can add the code to the table. It should look something like the following."
   ]
  },
  {
   "cell_type": "code",
   "execution_count": null,
   "metadata": {},
   "outputs": [],
   "source": [
    "<table id =\"continents\" class=\"table\">\n",
    "    all the table data\n",
    "</table>"
   ]
  },
  {
   "cell_type": "markdown",
   "metadata": {},
   "source": [
    "The final step would be calling upon the *contients* id and applying the javascript and css code to our table in order to finally give it the necessary functionality to work."
   ]
  },
  {
   "cell_type": "code",
   "execution_count": null,
   "metadata": {},
   "outputs": [],
   "source": [
    "<!-- Script is used to embed executable code -->\n",
    "<script>\n",
    "    $(\"#continents\").DataTable();\n",
    "</script>"
   ]
  },
  {
   "cell_type": "markdown",
   "metadata": {},
   "source": [
    "For reference, this is how the table code should look after adding this additional code."
   ]
  },
  {
   "cell_type": "code",
   "execution_count": null,
   "metadata": {
    "vscode": {
     "languageId": "html"
    }
   },
   "outputs": [],
   "source": [
    "<!-- Head contains information to Support the Document -->\n",
    "<head>\n",
    "    <!-- load jQuery and DataTables output style and scripts -->\n",
    "    <link rel=\"stylesheet\" type=\"text/css\" href=\"https://cdn.datatables.net/1.13.4/css/jquery.dataTables.min.css\">\n",
    "    <script type=\"text/javascript\" language=\"javascript\" src=\"https://code.jquery.com/jquery-3.6.0.min.js\"></script>\n",
    "    <script>var define = null;</script>\n",
    "    <script type=\"text/javascript\" language=\"javascript\" src=\"https://cdn.datatables.net/1.13.4/js/jquery.dataTables.min.js\"></script>\n",
    "</head>\n",
    "\n",
    "\n",
    "<!-- Start of Table -->\n",
    "<table id =\"continents\" class=\"table\">\n",
    "\n",
    "  <!-- Table Headers -->\n",
    "  <thead>\n",
    "    <tr>\n",
    "      <th>Continent</th>\n",
    "      <th>Population (M)</th>\n",
    "      <th>Growth Rate</th>\n",
    "      <th>Life Expectancy</th>\n",
    "      <th>GDP (T)</th>\n",
    "      <th>Share (%)</th>\n",
    "      <th>Richest Country</th>\n",
    "    </tr>\n",
    "  </thead>\n",
    "\n",
    "  <!--Asia -->\n",
    "  <tr>\n",
    "    <td>Asia</td>\n",
    "    <td>4694</td>\n",
    "    <td>1.05%</td>\n",
    "    <td>74.06</td>\n",
    "    <td>$40.25</td>\n",
    "    <td>38.1%</td>\n",
    "    <td>China</td>\n",
    "  </tr>\n",
    "\n",
    "<!-- End of Table -->\n",
    "</table>\n",
    "\n",
    "<!-- Script is used to embed executable code -->\n",
    "<script>\n",
    "    $(\"#continents\").DataTable();\n",
    "</script>"
   ]
  },
  {
   "cell_type": "markdown",
   "metadata": {},
   "source": [
    "### Conclusion\n",
    "Now you know the basics of setting up markdown, html, and simple javascript tables! This is only the beginning of tables however. As your programming experience evolves, so will your ability to develop more efficient ways of developing tables. Till then though, be satisfied with the knowledge you learned for that is more than enough."
   ]
  }
 ],
 "metadata": {
  "kernelspec": {
   "display_name": "Python 3",
   "language": "python",
   "name": "python3"
  },
  "language_info": {
   "codemirror_mode": {
    "name": "ipython",
    "version": 3
   },
   "file_extension": ".py",
   "mimetype": "text/x-python",
   "name": "python",
   "nbconvert_exporter": "python",
   "pygments_lexer": "ipython3",
   "version": "3.10.12"
  },
  "orig_nbformat": 4
 },
 "nbformat": 4,
 "nbformat_minor": 2
}
