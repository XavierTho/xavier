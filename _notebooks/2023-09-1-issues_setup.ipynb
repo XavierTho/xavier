{
 "cells": [
  {
   "cell_type": "raw",
   "metadata": {},
   "source": [
    "---\n",
    "toc: false\n",
    "comments: false\n",
    "layout: post\n",
    "title: Issues Setup\n",
    "description: How to set up github issues\n",
    "type: hacks\n",
    "courses: { week: {week: 2} }\n",
    "---"
   ]
  },
  {
   "cell_type": "markdown",
   "metadata": {},
   "source": [
    "### Github Issues\n",
    "Github Issues can be used in a variety of ways, and in the context of this website, it's used to layout my plans for any given week with a simple checklist to keep track of my progress throughout the week. This guide will explain how to setup issues for a github repository.\n",
    "\n",
    "### Enabling and Adding an Issue\n",
    "> To begin adding issues to a github repository, the *issues* feature must be enabled first.\n",
    "1. Go to the repository in question `example: yourname/student`\n",
    "2. Go to Settings\n",
    "4. Scroll Down until you see the section Features\n",
    "5. Here, enable the feature called **Issues**\n",
    "\n",
    "Now that the Issues feature has been successfully enabled, go to the Issues section of the repository.\n",
    "<img style=\"border:10px outset silver;\" src=\"{{site.baseurl}}/images/sections.jpg\" alt=\"issue section\"/>\n",
    "\n",
    "Here, press the button called 'New Issue' and start creating your first issue!"
   ]
  },
  {
   "cell_type": "markdown",
   "metadata": {},
   "source": [
    "### Formatting"
   ]
  },
  {
   "cell_type": "code",
   "execution_count": null,
   "metadata": {
    "vscode": {
     "languageId": "plaintext"
    }
   },
   "outputs": [],
   "source": [
    "Title: Week [number] Plans\n",
    "\n",
    "\n",
    "- [ ] Plan 1\n",
    "- [ ] Plan 2\n",
    "- [ ] Plan 3\n",
    "- [ ] Plan 4\n",
    "- [ ] Plan 5\n",
    "\n",
    "\n",
    "### Summary of the Week\n",
    "add a short summary of what was done over the week."
   ]
  }
 ],
 "metadata": {
  "language_info": {
   "name": "python"
  },
  "orig_nbformat": 4
 },
 "nbformat": 4,
 "nbformat_minor": 2
}
